{
 "cells": [
  {
   "cell_type": "markdown",
   "metadata": {
    "id": "lGyDSrtf2F8f"
   },
   "source": [
    "# **Aula 1 - Conhecendo a biblioteca Matplotlib**\n"
   ]
  },
  {
   "cell_type": "markdown",
   "metadata": {
    "id": "xEWW2Wfv2vS_"
   },
   "source": [
    "##**Conhecendo os dados**"
   ]
  },
  {
   "cell_type": "markdown",
   "metadata": {
    "id": "V7MNJv1uSvil"
   },
   "source": [
    "### Importando os dados"
   ]
  },
  {
   "cell_type": "code",
   "execution_count": 1,
   "metadata": {
    "executionInfo": {
     "elapsed": 1673,
     "status": "ok",
     "timestamp": 1682517941929,
     "user": {
      "displayName": "Valquiria Alencar",
      "userId": "06101258850801001374"
     },
     "user_tz": 180
    },
    "id": "mRZKNPhhdgj2"
   },
   "outputs": [],
   "source": [
    "import pandas as pd"
   ]
  },
  {
   "cell_type": "code",
   "execution_count": 2,
   "metadata": {
    "executionInfo": {
     "elapsed": 1,
     "status": "ok",
     "timestamp": 1682517944139,
     "user": {
      "displayName": "Valquiria Alencar",
      "userId": "06101258850801001374"
     },
     "user_tz": 180
    },
    "id": "Gfn28OBnV2Fe"
   },
   "outputs": [
    {
     "name": "stdout",
     "output_type": "stream",
     "text": [
      "<class 'pandas.core.frame.DataFrame'>\n",
      "RangeIndex: 195 entries, 0 to 194\n",
      "Data columns (total 38 columns):\n",
      " #   Column      Non-Null Count  Dtype \n",
      "---  ------      --------------  ----- \n",
      " 0   País        195 non-null    object\n",
      " 1   Continente  195 non-null    object\n",
      " 2   Região      195 non-null    object\n",
      " 3   1980        195 non-null    int64 \n",
      " 4   1981        195 non-null    int64 \n",
      " 5   1982        195 non-null    int64 \n",
      " 6   1983        195 non-null    int64 \n",
      " 7   1984        195 non-null    int64 \n",
      " 8   1985        195 non-null    int64 \n",
      " 9   1986        195 non-null    int64 \n",
      " 10  1987        195 non-null    int64 \n",
      " 11  1988        195 non-null    int64 \n",
      " 12  1989        195 non-null    int64 \n",
      " 13  1990        195 non-null    int64 \n",
      " 14  1991        195 non-null    int64 \n",
      " 15  1992        195 non-null    int64 \n",
      " 16  1993        195 non-null    int64 \n",
      " 17  1994        195 non-null    int64 \n",
      " 18  1995        195 non-null    int64 \n",
      " 19  1996        195 non-null    int64 \n",
      " 20  1997        195 non-null    int64 \n",
      " 21  1998        195 non-null    int64 \n",
      " 22  1999        195 non-null    int64 \n",
      " 23  2000        195 non-null    int64 \n",
      " 24  2001        195 non-null    int64 \n",
      " 25  2002        195 non-null    int64 \n",
      " 26  2003        195 non-null    int64 \n",
      " 27  2004        195 non-null    int64 \n",
      " 28  2005        195 non-null    int64 \n",
      " 29  2006        195 non-null    int64 \n",
      " 30  2007        195 non-null    int64 \n",
      " 31  2008        195 non-null    int64 \n",
      " 32  2009        195 non-null    int64 \n",
      " 33  2010        195 non-null    int64 \n",
      " 34  2011        195 non-null    int64 \n",
      " 35  2012        195 non-null    int64 \n",
      " 36  2013        195 non-null    int64 \n",
      " 37  Total       195 non-null    int64 \n",
      "dtypes: int64(35), object(3)\n",
      "memory usage: 58.0+ KB\n"
     ]
    }
   ],
   "source": [
    "df = pd.read_csv('imigrantes_canada.csv')\n",
    "df.info()"
   ]
  },
  {
   "cell_type": "markdown",
   "metadata": {
    "id": "WKpx07VQSyPj"
   },
   "source": [
    "### Realizando alguns tratamentos"
   ]
  },
  {
   "cell_type": "code",
   "execution_count": 3,
   "metadata": {
    "executionInfo": {
     "elapsed": 325,
     "status": "ok",
     "timestamp": 1682517956310,
     "user": {
      "displayName": "Valquiria Alencar",
      "userId": "06101258850801001374"
     },
     "user_tz": 180
    },
    "id": "TFISHZBiV2Kg"
   },
   "outputs": [
    {
     "data": {
      "text/plain": [
       "['1980',\n",
       " '1981',\n",
       " '1982',\n",
       " '1983',\n",
       " '1984',\n",
       " '1985',\n",
       " '1986',\n",
       " '1987',\n",
       " '1988',\n",
       " '1989',\n",
       " '1990',\n",
       " '1991',\n",
       " '1992',\n",
       " '1993',\n",
       " '1994',\n",
       " '1995',\n",
       " '1996',\n",
       " '1997',\n",
       " '1998',\n",
       " '1999',\n",
       " '2000',\n",
       " '2001',\n",
       " '2002',\n",
       " '2003',\n",
       " '2004',\n",
       " '2005',\n",
       " '2006',\n",
       " '2007',\n",
       " '2008',\n",
       " '2009',\n",
       " '2010',\n",
       " '2011',\n",
       " '2012',\n",
       " '2013']"
      ]
     },
     "execution_count": 3,
     "metadata": {},
     "output_type": "execute_result"
    }
   ],
   "source": [
    "df.set_index('País', inplace=True)\n",
    "anos = list(map(str, range(1980, 2014)))\n",
    "anos"
   ]
  },
  {
   "cell_type": "markdown",
   "metadata": {
    "id": "rrpKsger4InS"
   },
   "source": [
    "### Extraindo a série de dados para o Brasil"
   ]
  },
  {
   "cell_type": "code",
   "execution_count": 4,
   "metadata": {
    "executionInfo": {
     "elapsed": 331,
     "status": "ok",
     "timestamp": 1682517966138,
     "user": {
      "displayName": "Valquiria Alencar",
      "userId": "06101258850801001374"
     },
     "user_tz": 180
    },
    "id": "p_KGLWnNkstL"
   },
   "outputs": [
    {
     "data": {
      "text/html": [
       "<div>\n",
       "<style scoped>\n",
       "    .dataframe tbody tr th:only-of-type {\n",
       "        vertical-align: middle;\n",
       "    }\n",
       "\n",
       "    .dataframe tbody tr th {\n",
       "        vertical-align: top;\n",
       "    }\n",
       "\n",
       "    .dataframe thead th {\n",
       "        text-align: right;\n",
       "    }\n",
       "</style>\n",
       "<table border=\"1\" class=\"dataframe\">\n",
       "  <thead>\n",
       "    <tr style=\"text-align: right;\">\n",
       "      <th></th>\n",
       "      <th>ano</th>\n",
       "      <th>imigrantes</th>\n",
       "    </tr>\n",
       "  </thead>\n",
       "  <tbody>\n",
       "    <tr>\n",
       "      <th>0</th>\n",
       "      <td>1980</td>\n",
       "      <td>211</td>\n",
       "    </tr>\n",
       "    <tr>\n",
       "      <th>1</th>\n",
       "      <td>1981</td>\n",
       "      <td>220</td>\n",
       "    </tr>\n",
       "    <tr>\n",
       "      <th>2</th>\n",
       "      <td>1982</td>\n",
       "      <td>192</td>\n",
       "    </tr>\n",
       "    <tr>\n",
       "      <th>3</th>\n",
       "      <td>1983</td>\n",
       "      <td>139</td>\n",
       "    </tr>\n",
       "    <tr>\n",
       "      <th>4</th>\n",
       "      <td>1984</td>\n",
       "      <td>145</td>\n",
       "    </tr>\n",
       "    <tr>\n",
       "      <th>5</th>\n",
       "      <td>1985</td>\n",
       "      <td>130</td>\n",
       "    </tr>\n",
       "    <tr>\n",
       "      <th>6</th>\n",
       "      <td>1986</td>\n",
       "      <td>205</td>\n",
       "    </tr>\n",
       "    <tr>\n",
       "      <th>7</th>\n",
       "      <td>1987</td>\n",
       "      <td>244</td>\n",
       "    </tr>\n",
       "    <tr>\n",
       "      <th>8</th>\n",
       "      <td>1988</td>\n",
       "      <td>394</td>\n",
       "    </tr>\n",
       "    <tr>\n",
       "      <th>9</th>\n",
       "      <td>1989</td>\n",
       "      <td>650</td>\n",
       "    </tr>\n",
       "    <tr>\n",
       "      <th>10</th>\n",
       "      <td>1990</td>\n",
       "      <td>650</td>\n",
       "    </tr>\n",
       "    <tr>\n",
       "      <th>11</th>\n",
       "      <td>1991</td>\n",
       "      <td>877</td>\n",
       "    </tr>\n",
       "    <tr>\n",
       "      <th>12</th>\n",
       "      <td>1992</td>\n",
       "      <td>1066</td>\n",
       "    </tr>\n",
       "    <tr>\n",
       "      <th>13</th>\n",
       "      <td>1993</td>\n",
       "      <td>866</td>\n",
       "    </tr>\n",
       "    <tr>\n",
       "      <th>14</th>\n",
       "      <td>1994</td>\n",
       "      <td>566</td>\n",
       "    </tr>\n",
       "    <tr>\n",
       "      <th>15</th>\n",
       "      <td>1995</td>\n",
       "      <td>572</td>\n",
       "    </tr>\n",
       "    <tr>\n",
       "      <th>16</th>\n",
       "      <td>1996</td>\n",
       "      <td>586</td>\n",
       "    </tr>\n",
       "    <tr>\n",
       "      <th>17</th>\n",
       "      <td>1997</td>\n",
       "      <td>591</td>\n",
       "    </tr>\n",
       "    <tr>\n",
       "      <th>18</th>\n",
       "      <td>1998</td>\n",
       "      <td>531</td>\n",
       "    </tr>\n",
       "    <tr>\n",
       "      <th>19</th>\n",
       "      <td>1999</td>\n",
       "      <td>626</td>\n",
       "    </tr>\n",
       "    <tr>\n",
       "      <th>20</th>\n",
       "      <td>2000</td>\n",
       "      <td>845</td>\n",
       "    </tr>\n",
       "    <tr>\n",
       "      <th>21</th>\n",
       "      <td>2001</td>\n",
       "      <td>847</td>\n",
       "    </tr>\n",
       "    <tr>\n",
       "      <th>22</th>\n",
       "      <td>2002</td>\n",
       "      <td>745</td>\n",
       "    </tr>\n",
       "    <tr>\n",
       "      <th>23</th>\n",
       "      <td>2003</td>\n",
       "      <td>839</td>\n",
       "    </tr>\n",
       "    <tr>\n",
       "      <th>24</th>\n",
       "      <td>2004</td>\n",
       "      <td>917</td>\n",
       "    </tr>\n",
       "    <tr>\n",
       "      <th>25</th>\n",
       "      <td>2005</td>\n",
       "      <td>969</td>\n",
       "    </tr>\n",
       "    <tr>\n",
       "      <th>26</th>\n",
       "      <td>2006</td>\n",
       "      <td>1181</td>\n",
       "    </tr>\n",
       "    <tr>\n",
       "      <th>27</th>\n",
       "      <td>2007</td>\n",
       "      <td>1746</td>\n",
       "    </tr>\n",
       "    <tr>\n",
       "      <th>28</th>\n",
       "      <td>2008</td>\n",
       "      <td>2138</td>\n",
       "    </tr>\n",
       "    <tr>\n",
       "      <th>29</th>\n",
       "      <td>2009</td>\n",
       "      <td>2509</td>\n",
       "    </tr>\n",
       "    <tr>\n",
       "      <th>30</th>\n",
       "      <td>2010</td>\n",
       "      <td>2598</td>\n",
       "    </tr>\n",
       "    <tr>\n",
       "      <th>31</th>\n",
       "      <td>2011</td>\n",
       "      <td>1508</td>\n",
       "    </tr>\n",
       "    <tr>\n",
       "      <th>32</th>\n",
       "      <td>2012</td>\n",
       "      <td>1642</td>\n",
       "    </tr>\n",
       "    <tr>\n",
       "      <th>33</th>\n",
       "      <td>2013</td>\n",
       "      <td>1714</td>\n",
       "    </tr>\n",
       "  </tbody>\n",
       "</table>\n",
       "</div>"
      ],
      "text/plain": [
       "     ano  imigrantes\n",
       "0   1980         211\n",
       "1   1981         220\n",
       "2   1982         192\n",
       "3   1983         139\n",
       "4   1984         145\n",
       "5   1985         130\n",
       "6   1986         205\n",
       "7   1987         244\n",
       "8   1988         394\n",
       "9   1989         650\n",
       "10  1990         650\n",
       "11  1991         877\n",
       "12  1992        1066\n",
       "13  1993         866\n",
       "14  1994         566\n",
       "15  1995         572\n",
       "16  1996         586\n",
       "17  1997         591\n",
       "18  1998         531\n",
       "19  1999         626\n",
       "20  2000         845\n",
       "21  2001         847\n",
       "22  2002         745\n",
       "23  2003         839\n",
       "24  2004         917\n",
       "25  2005         969\n",
       "26  2006        1181\n",
       "27  2007        1746\n",
       "28  2008        2138\n",
       "29  2009        2509\n",
       "30  2010        2598\n",
       "31  2011        1508\n",
       "32  2012        1642\n",
       "33  2013        1714"
      ]
     },
     "execution_count": 4,
     "metadata": {},
     "output_type": "execute_result"
    }
   ],
   "source": [
    "brasil = df.loc['Brasil', anos]\n",
    "brasil_dict = {'ano': brasil.index.tolist(), 'imigrantes': brasil.values.tolist()}\n",
    "\n",
    "dados_brasil = pd.DataFrame(brasil_dict)\n",
    "dados_brasil"
   ]
  },
  {
   "cell_type": "code",
   "execution_count": 5,
   "metadata": {
    "executionInfo": {
     "elapsed": 409,
     "status": "ok",
     "timestamp": 1682518004308,
     "user": {
      "displayName": "Valquiria Alencar",
      "userId": "06101258850801001374"
     },
     "user_tz": 180
    },
    "id": "Hi_CL_1jjvD7"
   },
   "outputs": [],
   "source": [
    "import matplotlib.pyplot as plt"
   ]
  },
  {
   "cell_type": "markdown",
   "metadata": {
    "id": "z0QbsKoNED0Q"
   },
   "source": [
    "## Evolução de imigrantes brasileiros para o Canadá"
   ]
  },
  {
   "cell_type": "code",
   "execution_count": 7,
   "metadata": {},
   "outputs": [
    {
     "data": {
      "image/png": "[encoded data removed]",
      "text/plain": [
       "<Figure size 640x480 with 1 Axes>"
      ]
     },
     "metadata": {},
     "output_type": "display_data"
    }
   ],
   "source": [
    "fig, ax = plt.subplots()\n",
    "ax.plot(dados_brasil['ano'], dados_brasil['imigrantes'], lw=3)\n",
    "ax.xaxis.set_major_locator(plt.MultipleLocator(5))\n",
    "ax.set_title('Imigração do Brasil para o Canadá\\n1980 a 2013', fontsize=18, loc='left')\n",
    "ax.set_xlabel('Ano', fontsize=14)\n",
    "ax.set_ylabel('Número de imigrantes', fontsize=14)\n",
    "ax.yaxis.set_tick_params(labelsize=12)\n",
    "ax.xaxis.set_tick_params(labelsize=12)\n",
    "ax.spines['top'].set_visible(False)\n",
    "ax.spines['right'].set_visible(False)\n",
    "\n",
    "plt.show()"
   ]
  },
  {
   "cell_type": "code",
   "execution_count": 23,
   "metadata": {},
   "outputs": [
    {
     "data": {
      "image/png": "[encoded data removed]",
      "text/plain": [
       "<Figure size 1200x500 with 1 Axes>"
      ]
     },
     "metadata": {},
     "output_type": "display_data"
    }
   ],
   "source": [
    "# Cria um dataframe com os países da América do Sul\n",
    "america_sul = df.query('Região == \"América do Sul\"').sort_values(by='Total', ascending=True)\n",
    "\n",
    "# Criando uma lista de cores para destacar o Brasil\n",
    "cores = []\n",
    "for pais in america_sul.index:\n",
    "    if pais == 'Brasil':\n",
    "        cores.append('green')\n",
    "    else:\n",
    "        cores.append('silver')\n",
    "\n",
    "# Criando a figura\n",
    "fig, ax = plt.subplots(figsize=(12, 5))\n",
    "ax.barh(america_sul.index, america_sul['Total'], color=cores)\n",
    "ax.set_title('América do Sul: Brasil foi o quarto país com mais imigrantes\\npara o Canadá no período de 1980 a 2013', loc='left', fontsize=16)\n",
    "ax.set_xlabel('Número de imigrantes', fontsize=14)\n",
    "ax.set_ylabel('')\n",
    "ax.yaxis.set_tick_params(labelsize=12)\n",
    "ax.xaxis.set_tick_params(labelsize=12)\n",
    "\n",
    "# Loop para adicionar o valor máximo de cada barra\n",
    "for i, v in enumerate(america_sul['Total']):\n",
    "    ax.text(v + 20, i, str(v), color='black', fontsize=10, ha='left', va='center')\n",
    "\n",
    "# Retirando o Frame (retângulo que encobre os gráficos)\n",
    "ax.set_frame_on(False)\n",
    "\n",
    "# Retirando o eixo X\n",
    "ax.get_xaxis().set_visible(False) \n",
    "\n",
    "# Removendo todos os ticks dos eixos X e Y\n",
    "ax.tick_params(axis='both', which='both', length=0)\n",
    "\n",
    "# Salvando a figura\n",
    "fig.savefig('imagens/imigracao_america_sul.png', transparent=False, dpi=300, bbox_inches='tight')\n",
    "\n",
    "plt.show()"
   ]
  }
 ],
 "metadata": {
  "colab": {
   "authorship_tag": "ABX9TyNgY0RdR64R4CZt5ki8tuPJ",
   "provenance": []
  },
  "kernelspec": {
   "display_name": ".venv",
   "language": "python",
   "name": "python3"
  },
  "language_info": {
   "codemirror_mode": {
    "name": "ipython",
    "version": 3
   },
   "file_extension": ".py",
   "mimetype": "text/x-python",
   "name": "python",
   "nbconvert_exporter": "python",
   "pygments_lexer": "ipython3",
   "version": "3.13.3"
  }
 },
 "nbformat": 4,
 "nbformat_minor": 0
}
